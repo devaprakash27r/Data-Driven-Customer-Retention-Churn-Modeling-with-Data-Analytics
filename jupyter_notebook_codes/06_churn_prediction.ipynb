{
 "cells": [
  {
   "cell_type": "code",
   "execution_count": 5,
   "id": "555e7ab6-9d78-40e7-92b5-0244ba6ddf7c",
   "metadata": {},
   "outputs": [
    {
     "name": "stdout",
     "output_type": "stream",
     "text": [
      "✅ Prediction complete! Output saved to 'churn_predictions.csv'.\n"
     ]
    }
   ],
   "source": [
    "import pandas as pd\n",
    "import joblib\n",
    "\n",
    "# Load new customer data\n",
    "new_data = pd.read_csv('New_Customers.CSV')\n",
    "\n",
    "# Load trained model\n",
    "model = joblib.load('Best_Model.pkl')\n",
    "\n",
    "# Load training data to match feature structure\n",
    "training_data = pd.read_csv('Model_Buliding_Dataset.CSV')\n",
    "\n",
    "# Drop target column if present\n",
    "target_cols = ['churn', 'churn_yes']\n",
    "for col in target_cols:\n",
    "    if col in training_data.columns:\n",
    "        training_data = training_data.drop(col, axis=1)\n",
    "\n",
    "# Get expected features from training\n",
    "expected_columns = training_data.columns\n",
    "\n",
    "# Remove target column(s) from new_data if present\n",
    "for col in target_cols:\n",
    "    if col in new_data.columns:\n",
    "        new_data = new_data.drop(col, axis=1)\n",
    "\n",
    "# Add missing columns with default 0\n",
    "for col in expected_columns:\n",
    "    if col not in new_data.columns:\n",
    "        new_data[col] = 0\n",
    "\n",
    "# Ensure order of columns matches training\n",
    "new_data = new_data[expected_columns]\n",
    "\n",
    "# Predict\n",
    "predictions = model.predict(new_data)\n",
    "\n",
    "# Add predictions\n",
    "new_data['churn_prediction'] = predictions\n",
    "\n",
    "# Save results\n",
    "new_data.to_csv('Churn_Predictions.csv', index=False)\n",
    "\n",
    "print(\"✅ Prediction complete! Output saved to 'churn_predictions.csv'.\")"
   ]
  },
  {
   "cell_type": "code",
   "execution_count": null,
   "id": "28228785-b4dd-4a63-8d0e-23bfb7b7f0ab",
   "metadata": {},
   "outputs": [],
   "source": []
  }
 ],
 "metadata": {
  "kernelspec": {
   "display_name": "Python 3 (ipykernel)",
   "language": "python",
   "name": "python3"
  },
  "language_info": {
   "codemirror_mode": {
    "name": "ipython",
    "version": 3
   },
   "file_extension": ".py",
   "mimetype": "text/x-python",
   "name": "python",
   "nbconvert_exporter": "python",
   "pygments_lexer": "ipython3",
   "version": "3.13.3"
  }
 },
 "nbformat": 4,
 "nbformat_minor": 5
}
