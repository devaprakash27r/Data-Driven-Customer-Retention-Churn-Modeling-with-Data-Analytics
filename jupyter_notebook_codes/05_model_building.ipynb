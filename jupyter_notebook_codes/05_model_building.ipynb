{
 "cells": [
  {
   "cell_type": "code",
   "execution_count": 19,
   "id": "d050e0e1-4503-4c09-a877-ec84d95b90b2",
   "metadata": {},
   "outputs": [
    {
     "data": {
      "text/html": [
       "<div>\n",
       "<style scoped>\n",
       "    .dataframe tbody tr th:only-of-type {\n",
       "        vertical-align: middle;\n",
       "    }\n",
       "\n",
       "    .dataframe tbody tr th {\n",
       "        vertical-align: top;\n",
       "    }\n",
       "\n",
       "    .dataframe thead th {\n",
       "        text-align: right;\n",
       "    }\n",
       "</style>\n",
       "<table border=\"1\" class=\"dataframe\">\n",
       "  <thead>\n",
       "    <tr style=\"text-align: right;\">\n",
       "      <th></th>\n",
       "      <th>senior_citizen</th>\n",
       "      <th>tenure</th>\n",
       "      <th>monthly_charges</th>\n",
       "      <th>total_charges</th>\n",
       "      <th>gender_male</th>\n",
       "      <th>gender_unknown</th>\n",
       "      <th>partner_unknown</th>\n",
       "      <th>partner_yes</th>\n",
       "      <th>dependents_unknown</th>\n",
       "      <th>dependents_yes</th>\n",
       "      <th>...</th>\n",
       "      <th>device_protection_unknown</th>\n",
       "      <th>device_protection_yes</th>\n",
       "      <th>tech_support_unknown</th>\n",
       "      <th>tech_support_yes</th>\n",
       "      <th>streaming_tv_unknown</th>\n",
       "      <th>streaming_tv_yes</th>\n",
       "      <th>streaming_movies_unknown</th>\n",
       "      <th>streaming_movies_yes</th>\n",
       "      <th>churn_unknown</th>\n",
       "      <th>churn_yes</th>\n",
       "    </tr>\n",
       "  </thead>\n",
       "  <tbody>\n",
       "    <tr>\n",
       "      <th>0</th>\n",
       "      <td>0</td>\n",
       "      <td>1.313150</td>\n",
       "      <td>-0.020344</td>\n",
       "      <td>-0.335299</td>\n",
       "      <td>True</td>\n",
       "      <td>False</td>\n",
       "      <td>False</td>\n",
       "      <td>True</td>\n",
       "      <td>False</td>\n",
       "      <td>False</td>\n",
       "      <td>...</td>\n",
       "      <td>True</td>\n",
       "      <td>False</td>\n",
       "      <td>True</td>\n",
       "      <td>False</td>\n",
       "      <td>True</td>\n",
       "      <td>False</td>\n",
       "      <td>True</td>\n",
       "      <td>False</td>\n",
       "      <td>False</td>\n",
       "      <td>True</td>\n",
       "    </tr>\n",
       "    <tr>\n",
       "      <th>1</th>\n",
       "      <td>1</td>\n",
       "      <td>-0.554296</td>\n",
       "      <td>-0.020344</td>\n",
       "      <td>-0.335299</td>\n",
       "      <td>False</td>\n",
       "      <td>False</td>\n",
       "      <td>True</td>\n",
       "      <td>False</td>\n",
       "      <td>True</td>\n",
       "      <td>False</td>\n",
       "      <td>...</td>\n",
       "      <td>True</td>\n",
       "      <td>False</td>\n",
       "      <td>True</td>\n",
       "      <td>False</td>\n",
       "      <td>True</td>\n",
       "      <td>False</td>\n",
       "      <td>True</td>\n",
       "      <td>False</td>\n",
       "      <td>True</td>\n",
       "      <td>False</td>\n",
       "    </tr>\n",
       "    <tr>\n",
       "      <th>2</th>\n",
       "      <td>1</td>\n",
       "      <td>1.169500</td>\n",
       "      <td>-0.020344</td>\n",
       "      <td>-0.335299</td>\n",
       "      <td>True</td>\n",
       "      <td>False</td>\n",
       "      <td>True</td>\n",
       "      <td>False</td>\n",
       "      <td>False</td>\n",
       "      <td>False</td>\n",
       "      <td>...</td>\n",
       "      <td>False</td>\n",
       "      <td>False</td>\n",
       "      <td>True</td>\n",
       "      <td>False</td>\n",
       "      <td>True</td>\n",
       "      <td>False</td>\n",
       "      <td>False</td>\n",
       "      <td>False</td>\n",
       "      <td>True</td>\n",
       "      <td>False</td>\n",
       "    </tr>\n",
       "    <tr>\n",
       "      <th>3</th>\n",
       "      <td>1</td>\n",
       "      <td>0.594901</td>\n",
       "      <td>2.709774</td>\n",
       "      <td>1.120171</td>\n",
       "      <td>False</td>\n",
       "      <td>False</td>\n",
       "      <td>True</td>\n",
       "      <td>False</td>\n",
       "      <td>False</td>\n",
       "      <td>True</td>\n",
       "      <td>...</td>\n",
       "      <td>True</td>\n",
       "      <td>False</td>\n",
       "      <td>True</td>\n",
       "      <td>False</td>\n",
       "      <td>True</td>\n",
       "      <td>False</td>\n",
       "      <td>True</td>\n",
       "      <td>False</td>\n",
       "      <td>False</td>\n",
       "      <td>True</td>\n",
       "    </tr>\n",
       "    <tr>\n",
       "      <th>4</th>\n",
       "      <td>1</td>\n",
       "      <td>0.499135</td>\n",
       "      <td>-0.020344</td>\n",
       "      <td>3.247732</td>\n",
       "      <td>False</td>\n",
       "      <td>False</td>\n",
       "      <td>False</td>\n",
       "      <td>False</td>\n",
       "      <td>False</td>\n",
       "      <td>True</td>\n",
       "      <td>...</td>\n",
       "      <td>False</td>\n",
       "      <td>False</td>\n",
       "      <td>False</td>\n",
       "      <td>True</td>\n",
       "      <td>True</td>\n",
       "      <td>False</td>\n",
       "      <td>False</td>\n",
       "      <td>False</td>\n",
       "      <td>False</td>\n",
       "      <td>True</td>\n",
       "    </tr>\n",
       "  </tbody>\n",
       "</table>\n",
       "<p>5 rows × 42 columns</p>\n",
       "</div>"
      ],
      "text/plain": [
       "   senior_citizen    tenure  monthly_charges  total_charges  gender_male  \\\n",
       "0               0  1.313150        -0.020344      -0.335299         True   \n",
       "1               1 -0.554296        -0.020344      -0.335299        False   \n",
       "2               1  1.169500        -0.020344      -0.335299         True   \n",
       "3               1  0.594901         2.709774       1.120171        False   \n",
       "4               1  0.499135        -0.020344       3.247732        False   \n",
       "\n",
       "   gender_unknown  partner_unknown  partner_yes  dependents_unknown  \\\n",
       "0           False            False         True               False   \n",
       "1           False             True        False                True   \n",
       "2           False             True        False               False   \n",
       "3           False             True        False               False   \n",
       "4           False            False        False               False   \n",
       "\n",
       "   dependents_yes  ...  device_protection_unknown  device_protection_yes  \\\n",
       "0           False  ...                       True                  False   \n",
       "1           False  ...                       True                  False   \n",
       "2           False  ...                      False                  False   \n",
       "3            True  ...                       True                  False   \n",
       "4            True  ...                      False                  False   \n",
       "\n",
       "   tech_support_unknown  tech_support_yes  streaming_tv_unknown  \\\n",
       "0                  True             False                  True   \n",
       "1                  True             False                  True   \n",
       "2                  True             False                  True   \n",
       "3                  True             False                  True   \n",
       "4                 False              True                  True   \n",
       "\n",
       "   streaming_tv_yes  streaming_movies_unknown  streaming_movies_yes  \\\n",
       "0             False                      True                 False   \n",
       "1             False                      True                 False   \n",
       "2             False                     False                 False   \n",
       "3             False                      True                 False   \n",
       "4             False                     False                 False   \n",
       "\n",
       "   churn_unknown  churn_yes  \n",
       "0          False       True  \n",
       "1           True      False  \n",
       "2           True      False  \n",
       "3          False       True  \n",
       "4          False       True  \n",
       "\n",
       "[5 rows x 42 columns]"
      ]
     },
     "execution_count": 19,
     "metadata": {},
     "output_type": "execute_result"
    }
   ],
   "source": [
    "# Model Building \n",
    "\n",
    "import pandas as pd\n",
    "\n",
    "dataset = pd.read_csv('Model_Buliding_Dataset.CSV')  # Getting the data from the cleaned dataset csv file\n",
    "\n",
    "dataset.head()"
   ]
  },
  {
   "cell_type": "code",
   "execution_count": 20,
   "id": "a3a0e51c-0175-4bfd-a2a7-da17c8d0b22f",
   "metadata": {},
   "outputs": [],
   "source": [
    "# Splitting the dataset into training and testing sets\n",
    "\n",
    "from sklearn.model_selection import train_test_split\n",
    "\n",
    "X = dataset.drop('churn_yes', axis=1)\n",
    "y = dataset['churn_yes']\n",
    "\n",
    "X_train, X_test, y_train, y_test = train_test_split(X, y, test_size=0.2, random_state=42)"
   ]
  },
  {
   "cell_type": "code",
   "execution_count": 21,
   "id": "824bc3a8-fe50-4004-b15d-d8d586aeba8b",
   "metadata": {},
   "outputs": [
    {
     "name": "stdout",
     "output_type": "stream",
     "text": [
      "Logistic Regression:\n",
      "[[158  39]\n",
      " [ 62  41]]\n",
      "              precision    recall  f1-score   support\n",
      "\n",
      "       False       0.72      0.80      0.76       197\n",
      "        True       0.51      0.40      0.45       103\n",
      "\n",
      "    accuracy                           0.66       300\n",
      "   macro avg       0.62      0.60      0.60       300\n",
      "weighted avg       0.65      0.66      0.65       300\n",
      "\n"
     ]
    }
   ],
   "source": [
    "# Logistic Regression \n",
    "\n",
    "from sklearn.linear_model import LogisticRegression\n",
    "from sklearn.metrics import classification_report, confusion_matrix\n",
    "\n",
    "log_model = LogisticRegression(max_iter=1000)\n",
    "log_model.fit(X_train, y_train)\n",
    "\n",
    "y_pred = log_model.predict(X_test)\n",
    "\n",
    "print(\"Logistic Regression:\")\n",
    "print(confusion_matrix(y_test, y_pred))\n",
    "print(classification_report(y_test, y_pred))"
   ]
  },
  {
   "cell_type": "code",
   "execution_count": 22,
   "id": "a8c63648-51e0-46ed-b8b0-112d4c33ef75",
   "metadata": {},
   "outputs": [
    {
     "name": "stdout",
     "output_type": "stream",
     "text": [
      "Random Forest:\n",
      "[[175  22]\n",
      " [ 85  18]]\n",
      "              precision    recall  f1-score   support\n",
      "\n",
      "       False       0.67      0.89      0.77       197\n",
      "        True       0.45      0.17      0.25       103\n",
      "\n",
      "    accuracy                           0.64       300\n",
      "   macro avg       0.56      0.53      0.51       300\n",
      "weighted avg       0.60      0.64      0.59       300\n",
      "\n"
     ]
    }
   ],
   "source": [
    "# Random Forest\n",
    "\n",
    "from sklearn.ensemble import RandomForestClassifier\n",
    "\n",
    "rf_model = RandomForestClassifier(random_state=42)\n",
    "rf_model.fit(X_train, y_train)\n",
    "\n",
    "rf_pred = rf_model.predict(X_test)\n",
    "\n",
    "print(\"Random Forest:\")\n",
    "print(confusion_matrix(y_test, rf_pred))\n",
    "print(classification_report(y_test, rf_pred))"
   ]
  },
  {
   "cell_type": "code",
   "execution_count": 23,
   "id": "381a9733-3cf4-4ab1-88d5-4c62ad661419",
   "metadata": {},
   "outputs": [
    {
     "name": "stdout",
     "output_type": "stream",
     "text": [
      "Decision Tree:\n",
      "[[142  55]\n",
      " [ 59  44]]\n",
      "              precision    recall  f1-score   support\n",
      "\n",
      "       False       0.71      0.72      0.71       197\n",
      "        True       0.44      0.43      0.44       103\n",
      "\n",
      "    accuracy                           0.62       300\n",
      "   macro avg       0.58      0.57      0.57       300\n",
      "weighted avg       0.62      0.62      0.62       300\n",
      "\n"
     ]
    }
   ],
   "source": [
    "# Decision Tree\n",
    "\n",
    "from sklearn.tree import DecisionTreeClassifier\n",
    "\n",
    "dt_model = DecisionTreeClassifier(random_state=42)\n",
    "dt_model.fit(X_train, y_train)\n",
    "\n",
    "dt_pred = dt_model.predict(X_test)\n",
    "\n",
    "print(\"Decision Tree:\")\n",
    "print(confusion_matrix(y_test, dt_pred))\n",
    "print(classification_report(y_test, dt_pred))"
   ]
  },
  {
   "cell_type": "code",
   "execution_count": 24,
   "id": "f3499bb1-e376-49c5-ad48-fad46395f6aa",
   "metadata": {},
   "outputs": [
    {
     "name": "stdout",
     "output_type": "stream",
     "text": [
      "KNN:\n",
      "[[157  40]\n",
      " [ 81  22]]\n",
      "              precision    recall  f1-score   support\n",
      "\n",
      "       False       0.66      0.80      0.72       197\n",
      "        True       0.35      0.21      0.27       103\n",
      "\n",
      "    accuracy                           0.60       300\n",
      "   macro avg       0.51      0.51      0.49       300\n",
      "weighted avg       0.56      0.60      0.57       300\n",
      "\n"
     ]
    }
   ],
   "source": [
    "# KNN\n",
    "\n",
    "from sklearn.neighbors import KNeighborsClassifier\n",
    "\n",
    "knn_model = KNeighborsClassifier()\n",
    "knn_model.fit(X_train, y_train)\n",
    "\n",
    "knn_pred = knn_model.predict(X_test)\n",
    "\n",
    "print(\"KNN:\")\n",
    "print(confusion_matrix(y_test, knn_pred))\n",
    "print(classification_report(y_test, knn_pred))"
   ]
  },
  {
   "cell_type": "code",
   "execution_count": 25,
   "id": "ff11f217-d4fb-4a78-9a55-3c0c08059b5f",
   "metadata": {},
   "outputs": [
    {
     "name": "stdout",
     "output_type": "stream",
     "text": [
      "Logistic Regression: 0.6633\n",
      "Random Forest: 0.6433\n",
      "Decision Tree: 0.6200\n",
      "KNN: 0.5967\n"
     ]
    }
   ],
   "source": [
    "# From models getting the accuracy scores\n",
    "\n",
    "from sklearn.metrics import accuracy_score\n",
    "\n",
    "models = {\n",
    "    'Logistic Regression': y_pred,\n",
    "    'Random Forest': rf_pred,\n",
    "    'Decision Tree': dt_pred,\n",
    "    'KNN': knn_pred\n",
    "}\n",
    "\n",
    "for name, preds in models.items():\n",
    "    print(f\"{name}: {accuracy_score(y_test, preds):.4f}\")"
   ]
  },
  {
   "cell_type": "code",
   "execution_count": 26,
   "id": "ddbb96a0-2a4e-4d5e-b7ce-9ac207d4abfc",
   "metadata": {},
   "outputs": [],
   "source": [
    "# Tuning the models \n",
    "\n",
    "from sklearn.model_selection import GridSearchCV, cross_val_score\n",
    "from sklearn.linear_model import LogisticRegression\n",
    "from sklearn.ensemble import RandomForestClassifier\n",
    "from sklearn.tree import DecisionTreeClassifier\n",
    "from sklearn.neighbors import KNeighborsClassifier"
   ]
  },
  {
   "cell_type": "code",
   "execution_count": 27,
   "id": "cbc3c145-bc04-4abf-8af7-ea8fd0eecd4a",
   "metadata": {},
   "outputs": [
    {
     "name": "stdout",
     "output_type": "stream",
     "text": [
      "Best Params for Logistic Regression: {'C': 0.01, 'penalty': 'l2', 'solver': 'lbfgs'}\n",
      "Best CV Score: 0.6833333333333333\n"
     ]
    }
   ],
   "source": [
    "# Hyperparameter tuning for Logistic Regression model using GridSearchCV\n",
    "\n",
    "param_grid_log = {\n",
    "    'C': [0.01, 0.1, 1, 10, 100],   # Regularization strength\n",
    "    'penalty': ['l2'],\n",
    "    'solver': ['lbfgs', 'liblinear']\n",
    "}\n",
    "\n",
    "grid_log = GridSearchCV(LogisticRegression(max_iter=1000), param_grid_log, cv=5, scoring='accuracy')\n",
    "grid_log.fit(X_train, y_train)\n",
    "Best_log_cv = grid_log.best_score_\n",
    "\n",
    "print(\"Best Params for Logistic Regression:\", grid_log.best_params_)\n",
    "print(\"Best CV Score:\", Best_log_cv)"
   ]
  },
  {
   "cell_type": "code",
   "execution_count": 28,
   "id": "e1d3e367-7f63-48a8-b6f2-98937481992c",
   "metadata": {},
   "outputs": [
    {
     "name": "stdout",
     "output_type": "stream",
     "text": [
      "Best Params for Random Forest: {'max_depth': None, 'min_samples_leaf': 2, 'min_samples_split': 5, 'n_estimators': 100}\n",
      "Best CV Score: 0.6874999999999999\n"
     ]
    }
   ],
   "source": [
    "# Hyperparameter tuning for Random Forest model using GridSearchCV\n",
    "\n",
    "param_grid_rf = {\n",
    "    'n_estimators': [100, 200],\n",
    "    'max_depth': [None, 10, 20],\n",
    "    'min_samples_split': [2, 5],\n",
    "    'min_samples_leaf': [1, 2]\n",
    "}\n",
    "\n",
    "grid_rf = GridSearchCV(RandomForestClassifier(random_state=42), param_grid_rf, cv=5, scoring='accuracy')\n",
    "grid_rf.fit(X_train, y_train)\n",
    "Best_rf_cv = grid_rf.best_score_\n",
    "\n",
    "print(\"Best Params for Random Forest:\", grid_rf.best_params_)\n",
    "print(\"Best CV Score:\", Best_rf_cv)"
   ]
  },
  {
   "cell_type": "code",
   "execution_count": 29,
   "id": "0fe85c6b-a0ec-467c-9228-30c3fed07c71",
   "metadata": {},
   "outputs": [
    {
     "name": "stdout",
     "output_type": "stream",
     "text": [
      "Best Params for Decision Tree: {'criterion': 'gini', 'max_depth': None, 'min_samples_leaf': 2, 'min_samples_split': 2}\n",
      "Best CV Score: 0.6758333333333334\n"
     ]
    }
   ],
   "source": [
    "# Hyperparameter tuning for Decision Tree model using GridSearchCV\n",
    "\n",
    "param_grid_dt = {\n",
    "    'criterion': ['gini', 'entropy'],\n",
    "    'max_depth': [None, 5, 10, 20],\n",
    "    'min_samples_split': [2, 5],\n",
    "    'min_samples_leaf': [1, 2]\n",
    "}\n",
    "\n",
    "grid_dt = GridSearchCV(DecisionTreeClassifier(random_state=42), param_grid_dt, cv=5, scoring='accuracy')\n",
    "grid_dt.fit(X_train, y_train)\n",
    "Best_dt_cv = grid_dt.best_score_\n",
    "\n",
    "print(\"Best Params for Decision Tree:\", grid_dt.best_params_)\n",
    "print(\"Best CV Score:\", Best_dt_cv)"
   ]
  },
  {
   "cell_type": "code",
   "execution_count": 30,
   "id": "f67e5d01-c6eb-41cc-bb3b-85ec5fceca46",
   "metadata": {},
   "outputs": [
    {
     "name": "stdout",
     "output_type": "stream",
     "text": [
      "Best Params for KNN: {'metric': 'manhattan', 'n_neighbors': 11, 'weights': 'uniform'}\n",
      "Best CV Score: 0.6858333333333333\n"
     ]
    }
   ],
   "source": [
    "# Hyperparameter tuning for Knn model using GridSearchCV\n",
    "\n",
    "param_grid_knn = {\n",
    "    'n_neighbors': [3, 5, 7, 9, 11],\n",
    "    'weights': ['uniform', 'distance'],\n",
    "    'metric': ['euclidean', 'manhattan']\n",
    "}\n",
    "\n",
    "grid_knn = GridSearchCV(KNeighborsClassifier(), param_grid_knn, cv=5, scoring='accuracy')\n",
    "grid_knn.fit(X_train, y_train)\n",
    "Best_knn_cv = grid_knn.best_score_\n",
    "\n",
    "print(\"Best Params for KNN:\", grid_knn.best_params_)\n",
    "print(\"Best CV Score:\", Best_knn_cv)"
   ]
  },
  {
   "cell_type": "code",
   "execution_count": 31,
   "id": "c5f7f98a-3929-46d8-9443-63fba5b56679",
   "metadata": {},
   "outputs": [
    {
     "name": "stdout",
     "output_type": "stream",
     "text": [
      "Logistic Regression: 0.6833333333333333\n",
      "Random Forest: 0.6874999999999999\n",
      "Decision Tree: 0.6758333333333334\n",
      "KNN: 0.6858333333333333\n"
     ]
    }
   ],
   "source": [
    "# From models getting the Cross validation scores\n",
    "\n",
    "CV_Score_Dict = {\n",
    "    'Logistic Regression': Best_log_cv,\n",
    "    'Random Forest': Best_rf_cv,\n",
    "    'Decision Tree': Best_dt_cv,\n",
    "    'KNN': Best_knn_cv \n",
    "}\n",
    "for name, best_cv in CV_Score_Dict.items():\n",
    "    print(f\"{name}: {best_cv}\")"
   ]
  },
  {
   "cell_type": "code",
   "execution_count": 32,
   "id": "bcf08586-5d7e-4067-a6c9-3004bd203c0a",
   "metadata": {},
   "outputs": [
    {
     "name": "stdout",
     "output_type": "stream",
     "text": [
      "[[176  21]\n",
      " [ 84  19]]\n",
      "              precision    recall  f1-score   support\n",
      "\n",
      "       False       0.68      0.89      0.77       197\n",
      "        True       0.47      0.18      0.27       103\n",
      "\n",
      "    accuracy                           0.65       300\n",
      "   macro avg       0.58      0.54      0.52       300\n",
      "weighted avg       0.61      0.65      0.60       300\n",
      "\n"
     ]
    }
   ],
   "source": [
    "# By cross-validation score - Random Forest is the best model \n",
    "\n",
    "best_rf = grid_rf.best_estimator_\n",
    "y_pred_rf = best_rf.predict(X_test)\n",
    "\n",
    "from sklearn.metrics import classification_report, confusion_matrix\n",
    "print(confusion_matrix(y_test, y_pred_rf))\n",
    "print(classification_report(y_test, y_pred_rf))"
   ]
  },
  {
   "cell_type": "code",
   "execution_count": 33,
   "id": "1a1ef6eb-aeec-4422-a07e-9b53599fd960",
   "metadata": {},
   "outputs": [
    {
     "data": {
      "image/png": "[encoded data removed]",
      "text/plain": [
       "<Figure size 1000x600 with 1 Axes>"
      ]
     },
     "metadata": {},
     "output_type": "display_data"
    }
   ],
   "source": [
    "# Model Comparison after tuning\n",
    "\n",
    "import pandas as pd\n",
    "import matplotlib.pyplot as plt\n",
    "from sklearn.metrics import accuracy_score, precision_score, recall_score, f1_score\n",
    "\n",
    "# Define models and predictions\n",
    "models = {\n",
    "    'Logistic Regression': y_pred,\n",
    "    'Random Forest': rf_pred,\n",
    "    'Decision Tree': dt_pred,\n",
    "    'KNN': knn_pred\n",
    "}\n",
    "\n",
    "# Initialize metrics dictionary\n",
    "metrics = {\n",
    "    'Model': [],\n",
    "    'Accuracy': [],\n",
    "    'Precision': [],\n",
    "    'Recall': [],\n",
    "    'F1 Score': []\n",
    "}\n",
    "\n",
    "# Calculate metrics for each model\n",
    "for name, preds in models.items():\n",
    "    metrics['Model'].append(name)\n",
    "    metrics['Accuracy'].append(accuracy_score(y_test, preds))\n",
    "    metrics['Precision'].append(precision_score(y_test, preds, zero_division=0))\n",
    "    metrics['Recall'].append(recall_score(y_test, preds, zero_division=0))\n",
    "    metrics['F1 Score'].append(f1_score(y_test, preds, zero_division=0))\n",
    "\n",
    "# Create DataFrame\n",
    "metrics_df = pd.DataFrame(metrics)\n",
    "metrics_df.set_index('Model', inplace=True)\n",
    "\n",
    "# Plot the bar chart\n",
    "ax = metrics_df.plot(kind='bar', figsize=(10, 6), colormap='Set2')\n",
    "plt.title('Model Performance Comparison')\n",
    "plt.ylabel('Score')\n",
    "plt.ylim(0, 1)\n",
    "plt.xticks(rotation=45)\n",
    "plt.grid(axis='y')\n",
    "\n",
    "# Add score labels on top of each bar\n",
    "for container in ax.containers:\n",
    "    for bar in container:\n",
    "        yval = bar.get_height()\n",
    "        ax.text(\n",
    "            bar.get_x() + bar.get_width() / 2,\n",
    "            yval + 0.01,\n",
    "            f\"{yval:.2f}\",\n",
    "            ha='center',\n",
    "            va='bottom',\n",
    "            fontsize=9\n",
    "        )\n",
    "\n",
    "plt.tight_layout()\n",
    "plt.show()\n"
   ]
  },
  {
   "cell_type": "code",
   "execution_count": 34,
   "id": "c1cc694a-8552-4e8a-8951-bb282e1f831d",
   "metadata": {},
   "outputs": [
    {
     "data": {
      "text/plain": [
       "['Best_Model.pkl']"
      ]
     },
     "execution_count": 34,
     "metadata": {},
     "output_type": "execute_result"
    }
   ],
   "source": [
    "# Exporting the best model - currently the random forest because of accuracy\n",
    "\n",
    "import joblib\n",
    "joblib.dump(best_rf, 'Best_Model.pkl')"
   ]
  },
  {
   "cell_type": "code",
   "execution_count": 35,
   "id": "62d67df7-37bb-42ce-8c94-034acaec1455",
   "metadata": {},
   "outputs": [
    {
     "data": {
      "image/png": "[encoded data removed]",
      "text/plain": [
       "<Figure size 1700x1400 with 1 Axes>"
      ]
     },
     "metadata": {},
     "output_type": "display_data"
    }
   ],
   "source": [
    "import numpy as np\n",
    "import matplotlib.pyplot as plt\n",
    "\n",
    "# Get feature importances and corresponding feature names\n",
    "importances = best_rf.feature_importances_\n",
    "feature_names = X_train.columns\n",
    "\n",
    "# Sort them\n",
    "indices = np.argsort(importances)[::-1]\n",
    "sorted_features = feature_names[indices]\n",
    "sorted_importances = importances[indices]\n",
    "\n",
    "# Take top 15\n",
    "top_features = sorted_features[:15][::-1]\n",
    "top_importances = sorted_importances[:15][::-1]\n",
    "\n",
    "# Plot\n",
    "plt.figure(figsize=(17, 14))\n",
    "bars = plt.barh(top_features, top_importances, color='teal')\n",
    "plt.title('Top 15 Important Features - Random Forest')\n",
    "plt.xlabel('Importance Score')\n",
    "\n",
    "# Add value labels\n",
    "for bar in bars:\n",
    "    width = bar.get_width()\n",
    "    plt.text(width + 0.005, bar.get_y() + bar.get_height()/2,\n",
    "             f\"{width:.3f}\", va='center')\n",
    "\n",
    "plt.tight_layout()\n",
    "plt.show()\n"
   ]
  },
  {
   "cell_type": "code",
   "execution_count": 36,
   "id": "a0bbb346-2085-4c22-99c6-355cc08c8d68",
   "metadata": {},
   "outputs": [],
   "source": [
    "import pandas as pd\n",
    "\n",
    "# Create and sort the DataFrame\n",
    "importance_df = pd.DataFrame({\n",
    "    'Feature': feature_names,\n",
    "    'Importance': importances\n",
    "}).sort_values(by='Importance', ascending=False)\n",
    "\n",
    "# Save to CSV\n",
    "importance_df.to_csv('Feature_Importance.csv', index=False)"
   ]
  },
  {
   "cell_type": "code",
   "execution_count": null,
   "id": "206082bb-bda8-46dc-ad19-b59b87788c96",
   "metadata": {},
   "outputs": [],
   "source": []
  }
 ],
 "metadata": {
  "kernelspec": {
   "display_name": "Python 3 (ipykernel)",
   "language": "python",
   "name": "python3"
  },
  "language_info": {
   "codemirror_mode": {
    "name": "ipython",
    "version": 3
   },
   "file_extension": ".py",
   "mimetype": "text/x-python",
   "name": "python",
   "nbconvert_exporter": "python",
   "pygments_lexer": "ipython3",
   "version": "3.13.3"
  }
 },
 "nbformat": 4,
 "nbformat_minor": 5
}
